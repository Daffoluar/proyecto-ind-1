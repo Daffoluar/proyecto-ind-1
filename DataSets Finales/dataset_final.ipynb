{
 "cells": [
  {
   "cell_type": "markdown",
   "metadata": {},
   "source": [
    "## Se cargan los tres datasets y s ehace un merge para que quede todo en uno solo "
   ]
  },
  {
   "cell_type": "code",
   "execution_count": 33,
   "metadata": {},
   "outputs": [],
   "source": [
    "import pandas as pd"
   ]
  },
  {
   "cell_type": "markdown",
   "metadata": {},
   "source": [
    "## Dataset steam_games"
   ]
  },
  {
   "cell_type": "code",
   "execution_count": 34,
   "metadata": {},
   "outputs": [
    {
     "data": {
      "text/html": [
       "<div>\n",
       "<style scoped>\n",
       "    .dataframe tbody tr th:only-of-type {\n",
       "        vertical-align: middle;\n",
       "    }\n",
       "\n",
       "    .dataframe tbody tr th {\n",
       "        vertical-align: top;\n",
       "    }\n",
       "\n",
       "    .dataframe thead th {\n",
       "        text-align: right;\n",
       "    }\n",
       "</style>\n",
       "<table border=\"1\" class=\"dataframe\">\n",
       "  <thead>\n",
       "    <tr style=\"text-align: right;\">\n",
       "      <th></th>\n",
       "      <th>Unnamed: 0</th>\n",
       "      <th>genres</th>\n",
       "      <th>title</th>\n",
       "      <th>release_date</th>\n",
       "      <th>price</th>\n",
       "      <th>item_id</th>\n",
       "      <th>developer</th>\n",
       "    </tr>\n",
       "  </thead>\n",
       "  <tbody>\n",
       "    <tr>\n",
       "      <th>0</th>\n",
       "      <td>88310</td>\n",
       "      <td>Action</td>\n",
       "      <td>Lost Summoner Kitty</td>\n",
       "      <td>2018.0</td>\n",
       "      <td>4.99</td>\n",
       "      <td>761140</td>\n",
       "      <td>Kotoshiro</td>\n",
       "    </tr>\n",
       "    <tr>\n",
       "      <th>1</th>\n",
       "      <td>88310</td>\n",
       "      <td>Casual</td>\n",
       "      <td>Lost Summoner Kitty</td>\n",
       "      <td>2018.0</td>\n",
       "      <td>4.99</td>\n",
       "      <td>761140</td>\n",
       "      <td>Kotoshiro</td>\n",
       "    </tr>\n",
       "  </tbody>\n",
       "</table>\n",
       "</div>"
      ],
      "text/plain": [
       "   Unnamed: 0  genres                title  release_date  price  item_id  \\\n",
       "0       88310  Action  Lost Summoner Kitty        2018.0   4.99   761140   \n",
       "1       88310  Casual  Lost Summoner Kitty        2018.0   4.99   761140   \n",
       "\n",
       "   developer  \n",
       "0  Kotoshiro  \n",
       "1  Kotoshiro  "
      ]
     },
     "execution_count": 34,
     "metadata": {},
     "output_type": "execute_result"
    }
   ],
   "source": [
    "df_steam_games = pd.read_parquet('C:\\Proyecto\\Proyecto1\\DataSets Finales\\steam_games.parquet')\n",
    "df_steam_games['item_id'] = df_steam_games['item_id'].astype(int)\n",
    "df_steam_games.head(2)"
   ]
  },
  {
   "cell_type": "markdown",
   "metadata": {},
   "source": [
    "## Dataset user_review"
   ]
  },
  {
   "cell_type": "code",
   "execution_count": 35,
   "metadata": {},
   "outputs": [
    {
     "data": {
      "text/html": [
       "<div>\n",
       "<style scoped>\n",
       "    .dataframe tbody tr th:only-of-type {\n",
       "        vertical-align: middle;\n",
       "    }\n",
       "\n",
       "    .dataframe tbody tr th {\n",
       "        vertical-align: top;\n",
       "    }\n",
       "\n",
       "    .dataframe thead th {\n",
       "        text-align: right;\n",
       "    }\n",
       "</style>\n",
       "<table border=\"1\" class=\"dataframe\">\n",
       "  <thead>\n",
       "    <tr style=\"text-align: right;\">\n",
       "      <th></th>\n",
       "      <th>Unnamed: 0</th>\n",
       "      <th>user_id</th>\n",
       "      <th>item_id</th>\n",
       "      <th>recommend</th>\n",
       "      <th>sentiment_analysis</th>\n",
       "    </tr>\n",
       "  </thead>\n",
       "  <tbody>\n",
       "    <tr>\n",
       "      <th>12106</th>\n",
       "      <td>4763</td>\n",
       "      <td>76561198116801566</td>\n",
       "      <td>218620</td>\n",
       "      <td>False</td>\n",
       "      <td>2</td>\n",
       "    </tr>\n",
       "    <tr>\n",
       "      <th>58600</th>\n",
       "      <td>25427</td>\n",
       "      <td>chicka123</td>\n",
       "      <td>4000</td>\n",
       "      <td>True</td>\n",
       "      <td>0</td>\n",
       "    </tr>\n",
       "    <tr>\n",
       "      <th>53219</th>\n",
       "      <td>22668</td>\n",
       "      <td>6935</td>\n",
       "      <td>200900</td>\n",
       "      <td>True</td>\n",
       "      <td>2</td>\n",
       "    </tr>\n",
       "    <tr>\n",
       "      <th>22253</th>\n",
       "      <td>8769</td>\n",
       "      <td>76561198118874302</td>\n",
       "      <td>270550</td>\n",
       "      <td>True</td>\n",
       "      <td>2</td>\n",
       "    </tr>\n",
       "  </tbody>\n",
       "</table>\n",
       "</div>"
      ],
      "text/plain": [
       "       Unnamed: 0            user_id  item_id  recommend  sentiment_analysis\n",
       "12106        4763  76561198116801566   218620      False                   2\n",
       "58600       25427          chicka123     4000       True                   0\n",
       "53219       22668               6935   200900       True                   2\n",
       "22253        8769  76561198118874302   270550       True                   2"
      ]
     },
     "execution_count": 35,
     "metadata": {},
     "output_type": "execute_result"
    }
   ],
   "source": [
    "df_review = pd.read_parquet('C:/Proyecto/Proyecto1/DataSets Finales/user_review.parquet')\n",
    "df_review['item_id'] = df_review['item_id'].astype(int)\n",
    "df_review.sample(4)"
   ]
  },
  {
   "cell_type": "markdown",
   "metadata": {},
   "source": [
    "## Dataset user_items"
   ]
  },
  {
   "cell_type": "code",
   "execution_count": 36,
   "metadata": {},
   "outputs": [
    {
     "data": {
      "text/html": [
       "<div>\n",
       "<style scoped>\n",
       "    .dataframe tbody tr th:only-of-type {\n",
       "        vertical-align: middle;\n",
       "    }\n",
       "\n",
       "    .dataframe tbody tr th {\n",
       "        vertical-align: top;\n",
       "    }\n",
       "\n",
       "    .dataframe thead th {\n",
       "        text-align: right;\n",
       "    }\n",
       "</style>\n",
       "<table border=\"1\" class=\"dataframe\">\n",
       "  <thead>\n",
       "    <tr style=\"text-align: right;\">\n",
       "      <th></th>\n",
       "      <th>Unnamed: 0</th>\n",
       "      <th>user_id</th>\n",
       "      <th>items_count</th>\n",
       "      <th>playtime_forever</th>\n",
       "      <th>playtime_2weeks</th>\n",
       "    </tr>\n",
       "  </thead>\n",
       "  <tbody>\n",
       "    <tr>\n",
       "      <th>0</th>\n",
       "      <td>0</td>\n",
       "      <td>76561197970982479</td>\n",
       "      <td>277</td>\n",
       "      <td>6.0</td>\n",
       "      <td>0.0</td>\n",
       "    </tr>\n",
       "    <tr>\n",
       "      <th>1</th>\n",
       "      <td>1</td>\n",
       "      <td>76561197970982479</td>\n",
       "      <td>277</td>\n",
       "      <td>0.0</td>\n",
       "      <td>0.0</td>\n",
       "    </tr>\n",
       "    <tr>\n",
       "      <th>2</th>\n",
       "      <td>2</td>\n",
       "      <td>76561197970982479</td>\n",
       "      <td>277</td>\n",
       "      <td>7.0</td>\n",
       "      <td>0.0</td>\n",
       "    </tr>\n",
       "  </tbody>\n",
       "</table>\n",
       "</div>"
      ],
      "text/plain": [
       "   Unnamed: 0            user_id  items_count  playtime_forever  \\\n",
       "0           0  76561197970982479          277               6.0   \n",
       "1           1  76561197970982479          277               0.0   \n",
       "2           2  76561197970982479          277               7.0   \n",
       "\n",
       "   playtime_2weeks  \n",
       "0              0.0  \n",
       "1              0.0  \n",
       "2              0.0  "
      ]
     },
     "execution_count": 36,
     "metadata": {},
     "output_type": "execute_result"
    }
   ],
   "source": [
    "df_items = pd.read_parquet('C:/Proyecto/Proyecto1/DataSets Finales/users_items.parquet')\n",
    "df_items.head(3)"
   ]
  },
  {
   "cell_type": "code",
   "execution_count": 37,
   "metadata": {},
   "outputs": [
    {
     "data": {
      "text/plain": [
       "(2916386, 5)"
      ]
     },
     "execution_count": 37,
     "metadata": {},
     "output_type": "execute_result"
    }
   ],
   "source": [
    "df_items.shape"
   ]
  },
  {
   "cell_type": "markdown",
   "metadata": {},
   "source": [
    "## Dataset Final"
   ]
  },
  {
   "cell_type": "markdown",
   "metadata": {},
   "source": [
    "Se hace el merge de los 3 DataFrames a traves de la columna 'item_id'"
   ]
  },
  {
   "cell_type": "code",
   "execution_count": 38,
   "metadata": {},
   "outputs": [],
   "source": [
    "# se hace merge del dataframe de steam-games y los reviews de usuarios\n",
    "df_1 = pd.merge(df_steam_games, df_review, on = 'item_id' )"
   ]
  },
  {
   "cell_type": "code",
   "execution_count": 39,
   "metadata": {},
   "outputs": [],
   "source": [
    "# se hace merge del dataframe anterior con el de los user-items\n",
    "df = pd.merge(df_1, df_items, on = 'user_id' )"
   ]
  },
  {
   "cell_type": "code",
   "execution_count": 40,
   "metadata": {},
   "outputs": [
    {
     "data": {
      "text/plain": [
       "(8344484, 15)"
      ]
     },
     "execution_count": 40,
     "metadata": {},
     "output_type": "execute_result"
    }
   ],
   "source": [
    "df.shape"
   ]
  },
  {
   "cell_type": "markdown",
   "metadata": {},
   "source": [
    "Se verifican duplicados y se borran"
   ]
  },
  {
   "cell_type": "code",
   "execution_count": 41,
   "metadata": {},
   "outputs": [
    {
     "data": {
      "text/plain": [
       "0"
      ]
     },
     "execution_count": 41,
     "metadata": {},
     "output_type": "execute_result"
    }
   ],
   "source": [
    "df.duplicated(subset=df.columns).sum()\n"
   ]
  },
  {
   "cell_type": "code",
   "execution_count": 42,
   "metadata": {},
   "outputs": [],
   "source": [
    "df.drop_duplicates(keep= 'last', inplace=True)"
   ]
  },
  {
   "cell_type": "code",
   "execution_count": 43,
   "metadata": {},
   "outputs": [
    {
     "data": {
      "text/plain": [
       "(8344484, 15)"
      ]
     },
     "execution_count": 43,
     "metadata": {},
     "output_type": "execute_result"
    }
   ],
   "source": [
    "df.shape"
   ]
  },
  {
   "cell_type": "code",
   "execution_count": 44,
   "metadata": {},
   "outputs": [],
   "source": [
    "# se eliminan valores nulos\n",
    "df.dropna(subset= ['playtime_forever','playtime_2weeks'], inplace= True)"
   ]
  },
  {
   "cell_type": "code",
   "execution_count": 46,
   "metadata": {},
   "outputs": [
    {
     "data": {
      "text/html": [
       "<div>\n",
       "<style scoped>\n",
       "    .dataframe tbody tr th:only-of-type {\n",
       "        vertical-align: middle;\n",
       "    }\n",
       "\n",
       "    .dataframe tbody tr th {\n",
       "        vertical-align: top;\n",
       "    }\n",
       "\n",
       "    .dataframe thead th {\n",
       "        text-align: right;\n",
       "    }\n",
       "</style>\n",
       "<table border=\"1\" class=\"dataframe\">\n",
       "  <thead>\n",
       "    <tr style=\"text-align: right;\">\n",
       "      <th></th>\n",
       "      <th>Unnamed: 0_x</th>\n",
       "      <th>genres</th>\n",
       "      <th>title</th>\n",
       "      <th>release_date</th>\n",
       "      <th>price</th>\n",
       "      <th>item_id</th>\n",
       "      <th>developer</th>\n",
       "      <th>Unnamed: 0_y</th>\n",
       "      <th>user_id</th>\n",
       "      <th>recommend</th>\n",
       "      <th>sentiment_analysis</th>\n",
       "      <th>Unnamed: 0</th>\n",
       "      <th>items_count</th>\n",
       "      <th>playtime_forever</th>\n",
       "      <th>playtime_2weeks</th>\n",
       "    </tr>\n",
       "  </thead>\n",
       "  <tbody>\n",
       "    <tr>\n",
       "      <th>1619836</th>\n",
       "      <td>90343</td>\n",
       "      <td>Action</td>\n",
       "      <td>Half Minute Hero: The Second Coming</td>\n",
       "      <td>2014.0</td>\n",
       "      <td>9.99</td>\n",
       "      <td>240970</td>\n",
       "      <td>Opus</td>\n",
       "      <td>23233</td>\n",
       "      <td>splitmyurethra</td>\n",
       "      <td>False</td>\n",
       "      <td>0</td>\n",
       "      <td>4914871</td>\n",
       "      <td>85</td>\n",
       "      <td>955.0</td>\n",
       "      <td>0.0</td>\n",
       "    </tr>\n",
       "  </tbody>\n",
       "</table>\n",
       "</div>"
      ],
      "text/plain": [
       "         Unnamed: 0_x  genres                                title  \\\n",
       "1619836         90343  Action  Half Minute Hero: The Second Coming   \n",
       "\n",
       "         release_date  price  item_id developer  Unnamed: 0_y         user_id  \\\n",
       "1619836        2014.0   9.99   240970      Opus         23233  splitmyurethra   \n",
       "\n",
       "         recommend  sentiment_analysis  Unnamed: 0  items_count  \\\n",
       "1619836      False                   0     4914871           85   \n",
       "\n",
       "         playtime_forever  playtime_2weeks  \n",
       "1619836             955.0              0.0  "
      ]
     },
     "execution_count": 46,
     "metadata": {},
     "output_type": "execute_result"
    }
   ],
   "source": [
    "df.to_parquet(\"C:/Proyecto/Proyecto1/DataSets Finales/data_final.parquet\")\n",
    "df.sample()"
   ]
  },
  {
   "cell_type": "markdown",
   "metadata": {},
   "source": [
    "####  Se filtra el dataset con las columnas estrictamnte necesarias final para dar respuesta a cada uno de los endpoints"
   ]
  },
  {
   "cell_type": "markdown",
   "metadata": {},
   "source": [
    "Dataset para el endpoint 2"
   ]
  },
  {
   "cell_type": "code",
   "execution_count": 48,
   "metadata": {},
   "outputs": [
    {
     "data": {
      "text/plain": [
       "(2000000, 4)"
      ]
     },
     "execution_count": 48,
     "metadata": {},
     "output_type": "execute_result"
    }
   ],
   "source": [
    "\n",
    "df_endpoint_2 = df[['price','user_id','recommend','items_count']] \n",
    "df_endpoint_2 = df_endpoint_2.sample(2000000, random_state=42)                  \n",
    "df_endpoint_2.to_parquet(\"C:/Proyecto/Proyecto1/DataSets Finales/endpoint_2.parquet\")\n",
    "df_endpoint_2.shape"
   ]
  },
  {
   "cell_type": "markdown",
   "metadata": {},
   "source": [
    "Dataset enpoint 3"
   ]
  },
  {
   "cell_type": "code",
   "execution_count": 49,
   "metadata": {},
   "outputs": [
    {
     "data": {
      "text/plain": [
       "(2000000, 4)"
      ]
     },
     "execution_count": 49,
     "metadata": {},
     "output_type": "execute_result"
    }
   ],
   "source": [
    "df_endpoint_3 = df[['user_id', 'playtime_forever', 'genres', 'release_date']]\n",
    "df_endpoint_3 = df_endpoint_3.sample(2000000, random_state=42)\n",
    "df_endpoint_3.to_parquet(\"C:/Proyecto/Proyecto1/DataSets Finales/endpoint_3.parquet\")\n",
    "df_endpoint_3.shape"
   ]
  },
  {
   "cell_type": "markdown",
   "metadata": {},
   "source": [
    "Dataset endpoint 4 y 5"
   ]
  },
  {
   "cell_type": "code",
   "execution_count": 50,
   "metadata": {},
   "outputs": [
    {
     "data": {
      "text/plain": [
       "(2000000, 4)"
      ]
     },
     "execution_count": 50,
     "metadata": {},
     "output_type": "execute_result"
    }
   ],
   "source": [
    "df_endpoint_4_5 = df[['developer', 'recommend', 'release_date', 'sentiment_analysis']]\n",
    "df_endpoint_4_5 = df_endpoint_4_5.sample(2000000, random_state=42)\n",
    "df_endpoint_4_5.to_parquet('C:/Proyecto/Proyecto1/DataSets Finales/endpoint_4_5.parquet')\n",
    "df_endpoint_4_5.shape"
   ]
  },
  {
   "cell_type": "markdown",
   "metadata": {},
   "source": [
    "Dataset recomendacion de juegos"
   ]
  },
  {
   "cell_type": "code",
   "execution_count": 51,
   "metadata": {},
   "outputs": [
    {
     "data": {
      "text/html": [
       "<div>\n",
       "<style scoped>\n",
       "    .dataframe tbody tr th:only-of-type {\n",
       "        vertical-align: middle;\n",
       "    }\n",
       "\n",
       "    .dataframe tbody tr th {\n",
       "        vertical-align: top;\n",
       "    }\n",
       "\n",
       "    .dataframe thead th {\n",
       "        text-align: right;\n",
       "    }\n",
       "</style>\n",
       "<table border=\"1\" class=\"dataframe\">\n",
       "  <thead>\n",
       "    <tr style=\"text-align: right;\">\n",
       "      <th></th>\n",
       "      <th>item_id</th>\n",
       "      <th>title</th>\n",
       "      <th>genres</th>\n",
       "      <th>playtime_2weeks</th>\n",
       "      <th>recommend</th>\n",
       "      <th>sentiment_analysis</th>\n",
       "    </tr>\n",
       "  </thead>\n",
       "  <tbody>\n",
       "    <tr>\n",
       "      <th>0</th>\n",
       "      <td>282010</td>\n",
       "      <td>Carmageddon Max Pack</td>\n",
       "      <td>Action</td>\n",
       "      <td>0.0</td>\n",
       "      <td>True</td>\n",
       "      <td>1</td>\n",
       "    </tr>\n",
       "  </tbody>\n",
       "</table>\n",
       "</div>"
      ],
      "text/plain": [
       "   item_id                 title  genres  playtime_2weeks  recommend  \\\n",
       "0   282010  Carmageddon Max Pack  Action              0.0       True   \n",
       "\n",
       "   sentiment_analysis  \n",
       "0                   1  "
      ]
     },
     "execution_count": 51,
     "metadata": {},
     "output_type": "execute_result"
    }
   ],
   "source": [
    "df_recomendacion =df[['item_id', 'title', 'genres', 'playtime_2weeks', 'recommend', 'sentiment_analysis', ]]\n",
    "df_recomendacion.head(1)"
   ]
  },
  {
   "cell_type": "code",
   "execution_count": 52,
   "metadata": {},
   "outputs": [],
   "source": [
    "# se filtra por \"recommend\"\n",
    "df_recomendacion = df_recomendacion[df_recomendacion['recommend']==True]\n",
    "\n",
    "# se filtra por analisis de sentimientos positivos\n",
    "df_recomendacion = df_recomendacion[df_recomendacion['sentiment_analysis'] == 2]\n",
    "\n",
    "# se borra la columna 'recommend' ya que no es necesaria\n",
    "df_recomendacion = df_recomendacion.drop(['recommend'], axis=1)"
   ]
  },
  {
   "cell_type": "code",
   "execution_count": 53,
   "metadata": {},
   "outputs": [],
   "source": [
    "\"\"\"Sumamos la cantidad de horas jugadas por juego en las últimas dos semanas y la cantidad de recoendaciones positivas, agrupado por juego. Tomamos la cantidad jugada en las últimas dos semanas y lo usamos para el modelo de recomendación, entendiendo que esta cantidad de horas da una tendencia para poder recomendar. No tenemos demasiados parámetros para comparar similitud de coseno, por lo que una tendencia puede ser, en algunos casos, una buena manera de recomendar.\"\"\"\n",
    "df_recomendacion = df_recomendacion.groupby(['item_id', 'title', 'genres'], as_index=False).agg({\n",
    "    'sentiment_analysis': 'count',\n",
    "    'playtime_2weeks': 'sum',\n",
    " })\n",
    "\n",
    "# Ordenamos de manera descendente en función del análisis de sentimiento.\n",
    "df_recomendacion = df_recomendacion.sort_values(by='sentiment_analysis', ascending=False)\n",
    "df_recomendacion = df_recomendacion.groupby(['item_id', 'title']).agg({\n",
    "    'genres': lambda x: list(x),\n",
    "    'sentiment_analysis': 'sum',\n",
    "    'playtime_2weeks': 'sum'\n",
    "}).reset_index()"
   ]
  },
  {
   "cell_type": "code",
   "execution_count": 55,
   "metadata": {},
   "outputs": [],
   "source": [
    "# se exporta a la carpeta de datasets para ser consumido por la API\n",
    "df_recomendacion.to_parquet('C:/Proyecto/Proyecto1/DataSets Finales/recomendacion.parquet')"
   ]
  }
 ],
 "metadata": {
  "kernelspec": {
   "display_name": "env",
   "language": "python",
   "name": "python3"
  },
  "language_info": {
   "codemirror_mode": {
    "name": "ipython",
    "version": 3
   },
   "file_extension": ".py",
   "mimetype": "text/x-python",
   "name": "python",
   "nbconvert_exporter": "python",
   "pygments_lexer": "ipython3",
   "version": "3.12.1"
  }
 },
 "nbformat": 4,
 "nbformat_minor": 2
}
